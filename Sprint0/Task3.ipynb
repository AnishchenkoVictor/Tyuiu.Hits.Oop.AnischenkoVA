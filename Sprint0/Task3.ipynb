{
 "cells": [
  {
   "cell_type": "markdown",
   "metadata": {},
   "source": [
    "<h1 style=\"color:DodgerBlue\">Индивидальный проект</h1>"
   ]
  },
  {
   "cell_type": "markdown",
   "metadata": {},
   "source": [
    "<h2 style=\"color:DodgerBlue\">Название проекта:</h2>\n",
    "\n",
    "----\n",
    "\n",
    "### Вариант задания №2\n"
   ]
  },
  {
   "cell_type": "markdown",
   "metadata": {},
   "source": [
    "<h2 style=\"color:DodgerBlue\">Описание проекта:</h2>\n",
    "\n",
    "----\n",
    "\n",
    "Создать базовый класс Student в C#, который будет представлять информацию о\n",
    "студентах. На основе этого класса разработать 2-3 производных класса,\n",
    "демонстрирующих принципы наследования и полиморфизма. В каждом из классов\n",
    "должны быть реализованы новые атрибуты и методы, а также переопределены\n",
    "некоторые методы базового класса для демонстрации полиморфизма.\n",
    "\n"
   ]
  },
  {
   "cell_type": "markdown",
   "metadata": {},
   "source": [
    "<h2 style=\"color:DodgerBlue\">Реализация:</h2>\n",
    "\n",
    "----"
   ]
  },
  {
   "cell_type": "code",
   "execution_count": 2,
   "metadata": {
    "dotnet_interactive": {
     "language": "csharp"
    },
    "polyglot_notebook": {
     "kernelName": "csharp"
    }
   },
   "outputs": [
    {
     "name": "stdout",
     "output_type": "stream",
     "text": [
      "Имя: Виктор, Возраст: 19, курс: 2\n",
      "Студент Виктор обучается в университете\n",
      "Студент Виктор успешно сдал экзамен\n",
      "Имя: Александр, Возраст: 20, курс: 3\n",
      "Студент Александр обучается в университете, по специальности Автоматизация технологических процессов и производств\n",
      "Студент Александр успешно сдал экзамен\n",
      "Имя: Олег, Возраст: 24, курс: 1\n",
      "Студент Олег обучается в университете\n",
      "Студент Олег успешно сдал экзамен. Экзамен приняла: Анна Николаевна\n",
      "Имя: Дмитрий, Возраст: 26, курс: 1\n",
      "Студент Дмитрий пишет диссертацию по теме: Исследование коррозионного разрушения системы «цементный бетон – стальная арматура» в условиях микробиологической коррозии\n",
      "Студент Дмитрий успешно сдал экзамен\n"
     ]
    }
   ],
   "source": [
    "public class Student\n",
    "{\n",
    "    public string Name;\n",
    "    public int Age;\n",
    "    public int Course;\n",
    "\n",
    "    public virtual void GetInfo()\n",
    "    {\n",
    "        Console.WriteLine($\"Имя: {this.Name}, Возраст: {this.Age}, курс: {this.Course}\");\n",
    "    }\n",
    "\n",
    "    public virtual void Study()\n",
    "    {\n",
    "        Console.WriteLine($\"Студент {this.Name} обучается в университете\");\n",
    "    }\n",
    "\n",
    "    public virtual void TakeExam()\n",
    "    {\n",
    "        Console.WriteLine($\"Студент {this.Name} успешно сдал экзамен\");\n",
    "    }\n",
    "}\n",
    "\n",
    "public class BachelorStudent : Student\n",
    "{\n",
    "    public string Specialty;\n",
    "\n",
    "    public override void Study()\n",
    "    {\n",
    "        Console.WriteLine($\"Студент {this.Name} обучается в университете, по специальности {Specialty}\");\n",
    "    }\n",
    "}\n",
    "\n",
    "public class MasterStudent : Student\n",
    "{\n",
    "    public string ScientificAdvisor;\n",
    "\n",
    "    public override void TakeExam()\n",
    "    {\n",
    "        Console.WriteLine($\"Студент {this.Name} успешно сдал экзамен. Экзамен приняла: {ScientificAdvisor}\");        \n",
    "    }\n",
    "} \n",
    "\n",
    "public class PhDStudent : Student\n",
    "{\n",
    "    public string DissertationTopic;\n",
    "\n",
    "    public override void Study()\n",
    "    {\n",
    "        Console.WriteLine($\"Студент {this.Name} пишет диссертацию по теме: {DissertationTopic}\");\n",
    "    }\n",
    "}\n",
    "\n",
    "Student myStudent = new Student();\n",
    "myStudent.Name = \"Виктор\";\n",
    "myStudent.Age = 19;\n",
    "myStudent.Course = 2;\n",
    "\n",
    "BachelorStudent myBachelorStudent = new BachelorStudent();\n",
    "myBachelorStudent.Name = \"Александр\";\n",
    "myBachelorStudent.Age = 20;\n",
    "myBachelorStudent.Course = 3;\n",
    "myBachelorStudent.Specialty = \"Автоматизация технологических процессов и производств\";\n",
    "\n",
    "MasterStudent myMasterStudent = new MasterStudent();\n",
    "myMasterStudent.Name = \"Олег\";\n",
    "myMasterStudent.Age = 24;\n",
    "myMasterStudent.Course = 1;\n",
    "myMasterStudent.ScientificAdvisor = \"Анна Николаевна\";\n",
    "\n",
    "PhDStudent myPhDStudent = new PhDStudent();\n",
    "myPhDStudent.Name = \"Дмитрий\";\n",
    "myPhDStudent.Age = 26;\n",
    "myPhDStudent.Course = 1;\n",
    "myPhDStudent.DissertationTopic = \"Исследование коррозионного разрушения системы «цементный бетон – стальная арматура» в условиях микробиологической коррозии\";\n",
    "\n",
    "myStudent.GetInfo();\n",
    "myStudent.Study();\n",
    "myStudent.TakeExam();\n",
    "\n",
    "myBachelorStudent.GetInfo();\n",
    "myBachelorStudent.Study();\n",
    "myBachelorStudent.TakeExam();\n",
    "\n",
    "myMasterStudent.GetInfo();\n",
    "myMasterStudent.Study();\n",
    "myMasterStudent.TakeExam();\n",
    "\n",
    "myPhDStudent.GetInfo();\n",
    "myPhDStudent.Study();\n",
    "myPhDStudent.TakeExam();"
   ]
  }
 ],
 "metadata": {
  "kernelspec": {
   "display_name": ".NET (C#)",
   "language": "C#",
   "name": ".net-csharp"
  },
  "polyglot_notebook": {
   "kernelInfo": {
    "defaultKernelName": "csharp",
    "items": [
     {
      "aliases": [],
      "languageName": "csharp",
      "name": "csharp"
     }
    ]
   }
  }
 },
 "nbformat": 4,
 "nbformat_minor": 2
}
