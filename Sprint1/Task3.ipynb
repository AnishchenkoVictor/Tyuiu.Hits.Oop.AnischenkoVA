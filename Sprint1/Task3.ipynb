{
 "cells": [
  {
   "cell_type": "markdown",
   "metadata": {},
   "source": [
    "<h1 style=\"color:DodgerBlue\">Индивидальный проект</h1>"
   ]
  },
  {
   "cell_type": "markdown",
   "metadata": {},
   "source": [
    "<h2 style=\"color:DodgerBlue\">Название проекта:</h2>\n",
    "\n",
    "----\n",
    "\n",
    "### Вариант задания №2\n"
   ]
  },
  {
   "cell_type": "markdown",
   "metadata": {},
   "source": [
    "<h2 style=\"color:DodgerBlue\">Описание проекта:</h2>\n",
    "\n",
    "----\n",
    "\n",
    "Создать базовый класс Student в C#, который будет представлять информацию о\n",
    "студентах. На основе этого класса разработать 2-3 производных класса,\n",
    "демонстрирующих принципы наследования и полиморфизма. В каждом из классов\n",
    "должны быть реализованы новые атрибуты и методы, а также переопределены\n",
    "некоторые методы базового класса для демонстрации полиморфизма.\n",
    "\n",
    "Требования к базовому классу Student:\n",
    "\n",
    "• Атрибуты: Имя (Name), Возраст (Age), Курс (Course).\n",
    "\n",
    "• Методы:\n",
    "\n",
    "GetInfo(): метод для получения информации о студенте в виде строки.\n",
    "\n",
    "Study(): метод для вывода сообщения о том, что студент учится.\n",
    "\n",
    "TakeExam(): метод для вывода сообщения о сдаче экзамена.\n",
    "\n",
    "Требования к производным классам:\n",
    "1. Студент бакалавриата (BachelorStudent): Должен содержать дополнительные\n",
    "атрибуты, такие как Специальность (Specialty). Метод Study() должен быть\n",
    "переопределен для добавления информации о специальности при изучении\n",
    "предмета.\n",
    "2. Студент магистратуры (MasterStudent): Должен содержать дополнительные\n",
    "атрибуты, такие как Научный руководитель (ScientificAdvisor).\n",
    "Метод TakeExam() должен быть переопределен для добавления\n",
    "информации о научном руководителе при сдаче экзамена.\n",
    "3. Аспирант (PhDStudent) (если требуется третий класс): Должен содержать\n",
    "дополнительные атрибуты, такие как Тема диссертации (DissertationTopic).\n",
    "Метод Study() должен быть переопределен для добавления информации о\n",
    "теме диссертации при изучении предмета.\n",
    "\n",
    "#### Дополнительное задание\n",
    "Добавьте к сущестующим классам конструктора классов с использованием гетторов и сетторов и реализуйте взаимодействие объектов между собой"
   ]
  },
  {
   "cell_type": "markdown",
   "metadata": {},
   "source": [
    "<h2 style=\"color:DodgerBlue\">Реализация:</h2>\n",
    "\n",
    "----"
   ]
  },
  {
   "cell_type": "code",
   "execution_count": 1,
   "metadata": {
    "dotnet_interactive": {
     "language": "csharp"
    },
    "polyglot_notebook": {
     "kernelName": "csharp"
    }
   },
   "outputs": [
    {
     "name": "stdout",
     "output_type": "stream",
     "text": [
      "Имя: Виктор Анищенко, Возраст: 19, Курс: 2\n",
      "Студент Виктор Анищенко обучается в университете\n",
      "Студент Виктор Анищенко успешно сдал экзамен\n",
      "\n",
      "Имя: Александр Кислый, Возраст: 20, Курс: 3\n",
      "Студент Александр Кислый обучается в университете, по специальности «Автоматизация технологических процессов и производств»\n",
      "Студент Александр Кислый успешно сдал экзамен\n",
      "\n",
      "Имя: Олег Косой, Возраст: 24, Курс: 1\n",
      "Студент Олег Косой обучается в университете\n",
      "Студент Олег Косой успешно сдал экзамен. Экзамен принял преподаватель: Анна Николаевна\n",
      "\n",
      "Имя: Дмитрий Жидкий, Возраст: 26, Курс: 1\n",
      "Студент Дмитрий Жидкий пишет диссертацию по теме: «Исследование коррозионного разрушения системы «цементный бетон – стальная арматура» в условиях микробиологической коррозии»\n",
      "Студент Дмитрий Жидкий успешно сдал экзамен\n"
     ]
    }
   ],
   "source": [
    "public class Student\n",
    "{\n",
    "    public string Name {get; set;}\n",
    "    public int Age {get; set;}\n",
    "    public int Course {get; set;}\n",
    "\n",
    "    public Student(string name, int age, int course)\n",
    "    {\n",
    "        Name = name;\n",
    "        Age = age;\n",
    "        Course = course;\n",
    "    }\n",
    "\n",
    "    public virtual void GetInfo()\n",
    "    {\n",
    "        Console.WriteLine($\"Имя: {Name}, Возраст: {Age}, Курс: {Course}\");\n",
    "    }\n",
    "\n",
    "    public virtual void Study()\n",
    "    {\n",
    "        Console.WriteLine($\"Студент {Name} обучается в университете\");\n",
    "    }\n",
    "\n",
    "    public virtual void TakeExam()\n",
    "    {\n",
    "        Console.WriteLine($\"Студент {Name} успешно сдал экзамен\");\n",
    "    }\n",
    "}\n",
    "\n",
    "public class BachelorStudent : Student\n",
    "{\n",
    "    public string Specialty {get; set;}\n",
    "\n",
    "    public BachelorStudent(string name, int age, int сourse, string specialty): base(name, age, сourse)\n",
    "    {\n",
    "        Specialty = specialty;\n",
    "    }\n",
    "    \n",
    "    public override void Study()\n",
    "    {\n",
    "        Console.WriteLine($\"Студент {Name} обучается в университете, по специальности «{Specialty}»\");\n",
    "    }\n",
    "}\n",
    "\n",
    "public class MasterStudent : Student\n",
    "{\n",
    "    public string ScientificAdvisor {get; set;}\n",
    "\n",
    "    public MasterStudent(string name, int age, int course, string scientificAdvisor): base(name, age, course)\n",
    "    {\n",
    "        ScientificAdvisor = scientificAdvisor;\n",
    "    }\n",
    "\n",
    "    public override void TakeExam()\n",
    "    {\n",
    "        Console.WriteLine($\"Студент {Name} успешно сдал экзамен. Экзамен принял преподаватель: {ScientificAdvisor}\");\n",
    "    }\n",
    "}\n",
    "\n",
    "public class PhDStudent : Student\n",
    "{\n",
    "    public string DissertationTopic {get; set;}\n",
    "    public PhDStudent(string name, int age, int course, string dissertationTopic): base(name, age, course)\n",
    "    {\n",
    "        DissertationTopic = dissertationTopic;\n",
    "    }\n",
    "\n",
    "    public override void Study()\n",
    "    {\n",
    "        Console.WriteLine($\"Студент {Name} пишет диссертацию по теме: «{DissertationTopic}»\");\n",
    "    }\n",
    "}\n",
    "\n",
    "Student myStudent = new Student(\"Виктор Анищенко\", 19, 2);\n",
    "BachelorStudent myBachelorStudent = new BachelorStudent(\"Александр Кислый\", 20, 3, \"Автоматизация технологических процессов и производств\");\n",
    "MasterStudent myMasterStudent = new MasterStudent(\"Олег Косой\", 24, 1, \"Анна Николаевна\");\n",
    "PhDStudent myPhDStudent = new PhDStudent(\"Дмитрий Жидкий\", 26, 1, \"Исследование коррозионного разрушения системы «цементный бетон – стальная арматура» в условиях микробиологической коррозии\");\n",
    "\n",
    "myStudent.GetInfo();\n",
    "myStudent.Study();\n",
    "myStudent.TakeExam();\n",
    "Console.WriteLine(\"\");\n",
    "myBachelorStudent.GetInfo();\n",
    "myBachelorStudent.Study();\n",
    "myBachelorStudent.TakeExam();\n",
    "Console.WriteLine(\"\");\n",
    "myMasterStudent.GetInfo();\n",
    "myMasterStudent.Study();\n",
    "myMasterStudent.TakeExam();\n",
    "Console.WriteLine(\"\");\n",
    "myPhDStudent.GetInfo();\n",
    "myPhDStudent.Study();\n",
    "myPhDStudent.TakeExam();"
   ]
  }
 ],
 "metadata": {
  "kernelspec": {
   "display_name": ".NET (C#)",
   "language": "C#",
   "name": ".net-csharp"
  },
  "polyglot_notebook": {
   "kernelInfo": {
    "defaultKernelName": "csharp",
    "items": [
     {
      "aliases": [],
      "languageName": "csharp",
      "name": "csharp"
     }
    ]
   }
  }
 },
 "nbformat": 4,
 "nbformat_minor": 2
}
